{
 "cells": [
  {
   "cell_type": "code",
   "id": "initial_id",
   "metadata": {
    "collapsed": true,
    "ExecuteTime": {
     "end_time": "2025-08-06T07:21:21.276688Z",
     "start_time": "2025-08-06T07:21:20.213589Z"
    }
   },
   "source": "import pandas as pd",
   "outputs": [],
   "execution_count": 2
  },
  {
   "metadata": {},
   "cell_type": "markdown",
   "source": " استخراج اطلاعات از فایل",
   "id": "78fbc436e012370c"
  },
  {
   "metadata": {
    "ExecuteTime": {
     "end_time": "2025-08-06T09:29:19.220336Z",
     "start_time": "2025-08-06T09:29:19.197395Z"
    }
   },
   "cell_type": "code",
   "source": "df= pd.read_csv('imdb_top_1000.csv')",
   "id": "f753e3b82adc0d70",
   "outputs": [],
   "execution_count": 39
  },
  {
   "metadata": {},
   "cell_type": "markdown",
   "source": " ایجاد crosstab بین ژانر ها اسم فیلم ها",
   "id": "f12928d97cc57544"
  },
  {
   "metadata": {
    "ExecuteTime": {
     "end_time": "2025-08-06T09:29:22.292475Z",
     "start_time": "2025-08-06T09:29:22.281505Z"
    }
   },
   "cell_type": "code",
   "source": [
    "movie_genre = []\n",
    "for title, genre in zip(df[\"Series_Title\"], df[\"Genre\"]):\n",
    "    for g in genre.split(','):\n",
    "        movie_genre.append((title, g.strip()))\n",
    "movie_genre_df = pd.DataFrame(movie_genre, columns=[\"Series_Title\", \"Genre\"])\n",
    "movie_genre_cross_df = pd.crosstab( movie_genre_df['Genre'],movie_genre_df['Series_Title'])\n"
   ],
   "id": "b477c70384d11822",
   "outputs": [],
   "execution_count": 40
  },
  {
   "metadata": {},
   "cell_type": "markdown",
   "source": " تابع پیدا کردن فیلم های مشابه براساس ژانر",
   "id": "8d99eca8f84f3c7"
  },
  {
   "metadata": {
    "ExecuteTime": {
     "end_time": "2025-08-06T09:57:38.216088Z",
     "start_time": "2025-08-06T09:57:38.200134Z"
    }
   },
   "cell_type": "code",
   "source": [
    "def FindSimilayMovieByGenre(movie_title, cross_df, top_n=5):\n",
    "    if movie_title not in cross_df.columns:\n",
    "        return []\n",
    "\n",
    "    genres = cross_df[cross_df[movie_title] > 0].index.tolist()\n",
    "\n",
    "    filtered_df = cross_df.loc[genres]\n",
    "\n",
    "    similarity_score = filtered_df.sum(axis=0)\n",
    "\n",
    "    similarity_score = similarity_score.drop(movie_title, errors='ignore')\n",
    "\n",
    "    similar_movies = similarity_score[similarity_score > 0].sort_values(ascending=False)\n",
    "\n",
    "    return similar_movies.index.tolist()"
   ],
   "id": "cee90122ceadfc50",
   "outputs": [],
   "execution_count": 49
  },
  {
   "metadata": {},
   "cell_type": "markdown",
   "source": " خروجی نهایی (فیلمهای مشابه بر اساس ژانر)",
   "id": "2c3ff4479d3347"
  },
  {
   "metadata": {
    "ExecuteTime": {
     "end_time": "2025-08-06T09:57:46.798827Z",
     "start_time": "2025-08-06T09:57:42.314233Z"
    }
   },
   "cell_type": "code",
   "source": [
    "df['similarMovie'] =df['Series_Title'].apply(lambda title: FindSimilayMovieByGenre(title, movie_genre_cross_df))\n",
    "df[['similarMovie','Series_Title']].to_csv('similarMovie.csv')"
   ],
   "id": "b32fc26141cf8999",
   "outputs": [],
   "execution_count": 50
  }
 ],
 "metadata": {
  "kernelspec": {
   "display_name": "Python 3",
   "language": "python",
   "name": "python3"
  },
  "language_info": {
   "codemirror_mode": {
    "name": "ipython",
    "version": 2
   },
   "file_extension": ".py",
   "mimetype": "text/x-python",
   "name": "python",
   "nbconvert_exporter": "python",
   "pygments_lexer": "ipython2",
   "version": "2.7.6"
  }
 },
 "nbformat": 4,
 "nbformat_minor": 5
}
